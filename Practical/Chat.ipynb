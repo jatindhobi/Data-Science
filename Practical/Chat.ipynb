{
 "cells": [
  {
   "cell_type": "code",
   "execution_count": 3,
   "metadata": {},
   "outputs": [],
   "source": [
    "import pandas as pd\n",
    "import numpy as np\n",
    "from wordcloud import WordCloud\n",
    "import matplotlib.pyplot as plt"
   ]
  },
  {
   "cell_type": "code",
   "execution_count": 14,
   "metadata": {},
   "outputs": [
    {
     "data": {
      "text/html": [
       "<div>\n",
       "<style scoped>\n",
       "    .dataframe tbody tr th:only-of-type {\n",
       "        vertical-align: middle;\n",
       "    }\n",
       "\n",
       "    .dataframe tbody tr th {\n",
       "        vertical-align: top;\n",
       "    }\n",
       "\n",
       "    .dataframe thead th {\n",
       "        text-align: right;\n",
       "    }\n",
       "</style>\n",
       "<table border=\"1\" class=\"dataframe\">\n",
       "  <thead>\n",
       "    <tr style=\"text-align: right;\">\n",
       "      <th></th>\n",
       "      <th>20/08/2023, 9:07 pm - Messages and calls are end-to-end encrypted. No one outside of this chat, not even WhatsApp, can read or listen to them. Tap to learn more.</th>\n",
       "    </tr>\n",
       "  </thead>\n",
       "  <tbody>\n",
       "    <tr>\n",
       "      <th>0</th>\n",
       "      <td>27/08/2023, 12:21 am - Rishabh: Soja badk</td>\n",
       "    </tr>\n",
       "    <tr>\n",
       "      <th>1</th>\n",
       "      <td>27/08/2023, 12:21 am - Rishabh: *bsdk</td>\n",
       "    </tr>\n",
       "    <tr>\n",
       "      <th>2</th>\n",
       "      <td>27/08/2023, 12:29 am - Vishal(B C. A): &lt;Media ...</td>\n",
       "    </tr>\n",
       "    <tr>\n",
       "      <th>3</th>\n",
       "      <td>27/08/2023, 12:29 am - Jatin: You deleted this...</td>\n",
       "    </tr>\n",
       "    <tr>\n",
       "      <th>4</th>\n",
       "      <td>27/08/2023, 12:30 am - Jatin: Sale itni raat m...</td>\n",
       "    </tr>\n",
       "    <tr>\n",
       "      <th>...</th>\n",
       "      <td>...</td>\n",
       "    </tr>\n",
       "    <tr>\n",
       "      <th>2961</th>\n",
       "      <td>30/06/2024, 2:39 pm - Vishal(B C. A): This mes...</td>\n",
       "    </tr>\n",
       "    <tr>\n",
       "      <th>2962</th>\n",
       "      <td>30/06/2024, 2:39 pm - Vishal(B C. A): This mes...</td>\n",
       "    </tr>\n",
       "    <tr>\n",
       "      <th>2963</th>\n",
       "      <td>06/07/2024, 12:02 pm - Vishal(B C. A): hostel ...</td>\n",
       "    </tr>\n",
       "    <tr>\n",
       "      <th>2964</th>\n",
       "      <td>06/07/2024, 12:02 pm - Vishal(B C. A): &lt;Media ...</td>\n",
       "    </tr>\n",
       "    <tr>\n",
       "      <th>2965</th>\n",
       "      <td>06/07/2024, 12:05 pm - Jatin: Maje kar</td>\n",
       "    </tr>\n",
       "  </tbody>\n",
       "</table>\n",
       "<p>2966 rows × 1 columns</p>\n",
       "</div>"
      ],
      "text/plain": [
       "     20/08/2023, 9:07 pm - Messages and calls are end-to-end encrypted. No one outside of this chat, not even WhatsApp, can read or listen to them. Tap to learn more.\n",
       "0             27/08/2023, 12:21 am - Rishabh: Soja badk                                                                                                               \n",
       "1                 27/08/2023, 12:21 am - Rishabh: *bsdk                                                                                                               \n",
       "2     27/08/2023, 12:29 am - Vishal(B C. A): <Media ...                                                                                                               \n",
       "3     27/08/2023, 12:29 am - Jatin: You deleted this...                                                                                                               \n",
       "4     27/08/2023, 12:30 am - Jatin: Sale itni raat m...                                                                                                               \n",
       "...                                                 ...                                                                                                               \n",
       "2961  30/06/2024, 2:39 pm - Vishal(B C. A): This mes...                                                                                                               \n",
       "2962  30/06/2024, 2:39 pm - Vishal(B C. A): This mes...                                                                                                               \n",
       "2963  06/07/2024, 12:02 pm - Vishal(B C. A): hostel ...                                                                                                               \n",
       "2964  06/07/2024, 12:02 pm - Vishal(B C. A): <Media ...                                                                                                               \n",
       "2965             06/07/2024, 12:05 pm - Jatin: Maje kar                                                                                                               \n",
       "\n",
       "[2966 rows x 1 columns]"
      ]
     },
     "execution_count": 14,
     "metadata": {},
     "output_type": "execute_result"
    }
   ],
   "source": [
    "df=pd.read_csv(r\"C:\\Users\\jatin\\PycharmProjects\\Data_Science_Files\\Datasets\\WhatsApp-Chat-with-Avengers.csv\")\n",
    "df"
   ]
  },
  {
   "cell_type": "code",
   "execution_count": null,
   "metadata": {},
   "outputs": [],
   "source": [
    "text=df.description[0]\n",
    "text"
   ]
  },
  {
   "cell_type": "code",
   "execution_count": 16,
   "metadata": {},
   "outputs": [
    {
     "ename": "NameError",
     "evalue": "name 'text' is not defined",
     "output_type": "error",
     "traceback": [
      "\u001b[1;31m---------------------------------------------------------------------------\u001b[0m",
      "\u001b[1;31mNameError\u001b[0m                                 Traceback (most recent call last)",
      "Cell \u001b[1;32mIn[16], line 1\u001b[0m\n\u001b[1;32m----> 1\u001b[0m obj\u001b[38;5;241m=\u001b[39mWordCloud()\u001b[38;5;241m.\u001b[39mgenerate(\u001b[43mtext\u001b[49m)\n\u001b[0;32m      2\u001b[0m obj\n",
      "\u001b[1;31mNameError\u001b[0m: name 'text' is not defined"
     ]
    }
   ],
   "source": [
    "obj=WordCloud().generate(text)\n",
    "obj"
   ]
  }
 ],
 "metadata": {
  "kernelspec": {
   "display_name": "Python 3",
   "language": "python",
   "name": "python3"
  },
  "language_info": {
   "codemirror_mode": {
    "name": "ipython",
    "version": 3
   },
   "file_extension": ".py",
   "mimetype": "text/x-python",
   "name": "python",
   "nbconvert_exporter": "python",
   "pygments_lexer": "ipython3",
   "version": "3.11.4"
  }
 },
 "nbformat": 4,
 "nbformat_minor": 2
}
